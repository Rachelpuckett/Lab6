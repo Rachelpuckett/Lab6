{
 "cells": [
  {
   "cell_type": "code",
   "execution_count": 16,
   "metadata": {},
   "outputs": [
    {
     "name": "stdin",
     "output_type": "stream",
     "text": [
      "What is your name: Alex\n",
      "Do you own at least one cat? (Y/N) n\n"
     ]
    },
    {
     "name": "stdout",
     "output_type": "stream",
     "text": [
      "There is a 54.8% chance that Alex is awesome.\n"
     ]
    }
   ],
   "source": [
    "import random \n",
    "import sys\n",
    "\n",
    "# prompt the user for their name and whether or not they own a cat\n",
    "name = input(\"What is your name:\")\n",
    "response = input(\"Do you own at least one cat? (Y/N)\")\n",
    "awesomeprob = 85\n",
    "\n",
    "# generate the number of decimal places the final probability will be rounded to\n",
    "roundnum = random.randint(1, 4)\n",
    "\n",
    "# allows the input to not be case sensitive, and deternines their response\n",
    "try:\n",
    "    if response == \"Y\" or response == \"y\":\n",
    "        cat = True\n",
    "    elif response == \"N\" or response == \"n\":\n",
    "        cat = False\n",
    "    else:\n",
    "        print(\"Error.\", response, \"was not an expected response.\")\n",
    "        sys.exit(\"Error, not expected input\")\n",
    "except:\n",
    "    sys.exit(\"Input error\")\n",
    "\n",
    "# calculate the user's awesome probablity\n",
    "if cat:\n",
    "    awesomeprob += (10 * random.random())\n",
    "elif not cat:\n",
    "    awesomeprob = awesomeprob - (15 + (20 * (random.random())))\n",
    "else:\n",
    "    sys.exit(\"Error\")\n",
    "\n",
    "# round off some of the decimal places\n",
    "awesomeprob = round(awesomeprob, roundnum)\n",
    "    \n",
    "# print the result\n",
    "print(\"There is a\", str(awesomeprob) + \"%\", \"chance that\", name, \"is awesome.\")"
   ]
  }
 ],
 "metadata": {
  "kernelspec": {
   "display_name": "Python 3.7",
   "language": "python",
   "name": "python3"
  },
  "language_info": {
   "codemirror_mode": {
    "name": "ipython",
    "version": 3
   },
   "file_extension": ".py",
   "mimetype": "text/x-python",
   "name": "python",
   "nbconvert_exporter": "python",
   "pygments_lexer": "ipython3",
   "version": "3.7.0"
  }
 },
 "nbformat": 4,
 "nbformat_minor": 2
}
